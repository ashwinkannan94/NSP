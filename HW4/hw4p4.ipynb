{
 "cells": [
  {
   "cell_type": "markdown",
   "metadata": {},
   "source": [
    "## Homework 4, Problem 4 Classification on real data\n",
    "\n",
    "ECE C143A/C243A, Spring Quarter 2018, Prof. J.C. Kao, TAs T. Monsoor, X. Jiang and X. Yang"
   ]
  },
  {
   "cell_type": "markdown",
   "metadata": {},
   "source": [
    "## Background\n",
    "Neural prosthetic systems can be built based on classifying neural activity related to planning. As described in class, this is analogous to mapping patterns of neural activity to keys on a keyboard.\n",
    "In this problem, we will apply the results of Problems 1 and 2 to real neural data. The neural data were recorded using a 100-electrode array in premotor cortex of a macaque monkey1. The dataset can be found on CCLE as `ps4_realdata.mat`.\n",
    "\n",
    "The following describes the data format. The `.mat` file is loaded into Python as a dictionary with two keys: `train_trial` contains the training data and `test_trial` contains the test data. Each of these contains spike trains recorded simultaneously from 97 neurons while the monkey reached 91 times along each of 8 different reaching angles.\n",
    "\n",
    "The spike train recorded from the $i_{th}$ neuron on the $n_{th}$ trial of the $k_{th}$ reaching angle is accessed as \n",
    "\n",
    "`data['train_trial'][n,k][1][i,:]`\n",
    "\n",
    "where n = 0,...,90, k = 0,...,7, and i = 0, . . . , 96.  The [1] in between [n,k] and [i,:] does not mean anything for this assignment and is simply an \"artifact\" of how the data is structured. A spike train is represented as a sequence of zeros and ones, where time is discretized in 1 ms steps. A zero indicates that the neuron did not spike in the 1 ms bin, whereas a one indicates that the neuron spiked once in the 1 ms bin. The structure test trial has the same format as train trial.\n",
    "\n",
    "Each spike train is 700 ms long (and thus represented by an array of length 700).  This comprises a 200ms baseline period (before the reach target turned on), a 500ms planning period (after the reach target turned on).  Because it takes time for information about the reach target to arrive in premotor cortex (due to the time required for action potentials to propagate and for visual processing), we will ignore the first 150ms of the planning period.  *** FOR THIS PROBLEM, we will take spike counts for each neuron within a single 200ms bin starting 150ms after the reach target turns on. ***\n",
    "\n",
    "In other words, to calculate firing rates, you will calculate it over the 200ms window: \n",
    "\n",
    "`data['train_trial'][n,k][1][i,350:550]`"
   ]
  },
  {
   "cell_type": "code",
   "execution_count": 118,
   "metadata": {},
   "outputs": [
    {
     "name": "stdout",
     "output_type": "stream",
     "text": [
      "The autoreload extension is already loaded. To reload it, use:\n",
      "  %reload_ext autoreload\n"
     ]
    }
   ],
   "source": [
    "import numpy as np\n",
    "import numpy.matlib as npm\n",
    "import matplotlib.pyplot as plt\n",
    "import scipy.special\n",
    "import scipy.io as sio\n",
    "import math\n",
    "\n",
    "data = sio.loadmat('ps4_realdata.mat') # load the .mat file.\n",
    "NumTrainData = data['train_trial'].shape[0]\n",
    "NumClass = data['train_trial'].shape[1]\n",
    "NumTestData = data['test_trial'].shape[0]\n",
    "\n",
    "# Reloading any code written in external .py files.\n",
    "%load_ext autoreload\n",
    "%autoreload 2"
   ]
  },
  {
   "cell_type": "markdown",
   "metadata": {},
   "source": [
    "### (a) (8 points) \n",
    "Fit the ML parameters of model i) to the training data (91 × 8 observations of a length 97 array of neuron firing rates). \n",
    "\n",
    "To calculate the firing rates, use a single 200ms bin starting from 150ms after the target turns on.  This corresponds to using `data['train_trial'][n,k][1][i, 350:550]` to calculate all firing rates.  This corresponds to a 200ms window that turns on 150ms after the reach turns on.\n",
    "\n",
    "Then, use these parameters to classify the test data (91 × 8 data points) according to the decision rule (1). What is the percent of test data points correctly classified?"
   ]
  },
  {
   "cell_type": "code",
   "execution_count": 119,
   "metadata": {},
   "outputs": [
    {
     "name": "stdout",
     "output_type": "stream",
     "text": [
      "96.01648351648352\n"
     ]
    }
   ],
   "source": [
    "##4a\n",
    "\n",
    "# Calculate the firing rates.\n",
    "\n",
    "trainDataArr =  np.zeros((NumClass,NumTrainData,97)) # contains the firing rates for all neurons on all 8 x 91 trials in the training set\n",
    "testDataArr =  np.zeros((NumClass,NumTestData,97)) # for the testing set.\n",
    "\n",
    "for classIX in range(NumClass):\n",
    "    for trainDataIX in range(NumTrainData):   \n",
    "        trainDataArr[classIX,trainDataIX,:] = np.sum(data['train_trial'][trainDataIX,classIX][1][:,350:550],1)\n",
    "    for testDataIX in range(NumTestData):        \n",
    "        testDataArr[classIX,testDataIX,:]=np.sum(data['test_trial'][testDataIX,classIX][1][:,350:550],1)\n",
    "#====================================================#\n",
    "# YOUR CODE HERE:\n",
    "#   Fit the ML parameters of model i) to training data\n",
    "#====================================================#\n",
    "modParam1 = {}\n",
    "Total_number = trainDataArr[0].shape[0] + trainDataArr[1].shape[0] + trainDataArr[2].shape[0] + trainDataArr[3].shape[0] + trainDataArr[4].shape[0] + trainDataArr[5].shape[0] + trainDataArr[6].shape[0] + trainDataArr[7].shape[0]\n",
    "modParam1['pi'] = np.array((1/8, 1/8, 1/8, 1/8, 1/8, 1/8, 1/8, 1/8))\n",
    "modParam1['mean'] = np.array((np.mean(trainDataArr[0], axis = 0), np.mean(trainDataArr[1], axis=0), np.mean(trainDataArr[2], axis=0), np.mean(trainDataArr[3], axis=0), np.mean(trainDataArr[4], axis=0), np.mean(trainDataArr[5], axis=0), np.mean(trainDataArr[6], axis=0), np.mean(trainDataArr[7], axis=0)))\n",
    "modParam1['cov'] = np.array(trainDataArr[0].shape[0]/Total_number*np.cov(trainDataArr[0].T)) + np.array(trainDataArr[1].shape[0]/Total_number*np.cov(trainDataArr[1].T)) + np.array(trainDataArr[2].shape[0]/Total_number*np.cov(trainDataArr[2].T)) + np.array(trainDataArr[3].shape[0]/Total_number*np.cov(trainDataArr[3].T)) + np.array(trainDataArr[4].shape[0]/Total_number*np.cov(trainDataArr[4].T)) + np.array(trainDataArr[5].shape[0]/Total_number*np.cov(trainDataArr[5].T)) + np.array(trainDataArr[6].shape[0]/Total_number*np.cov(trainDataArr[6].T)) + np.array(trainDataArr[7].shape[0]/Total_number*np.cov(trainDataArr[7].T))\n",
    "#====================================================#\n",
    "# END YOUR CODE\n",
    "#====================================================# \n",
    "\n",
    "#====================================================#\n",
    "# YOUR CODE HERE:\n",
    "#   Classify the test data and print the accuracy\n",
    "#====================================================#\n",
    "classification_correct = 0\n",
    "def twoxmatmul(a,b,c):\n",
    "    half = np.matmul(a,b)\n",
    "    returnval = np.matmul(half,c)\n",
    "    return returnval\n",
    "for i in range(NumClass):\n",
    "    for j in range(NumTestData):\n",
    "        values = []\n",
    "        for k in range(NumClass):\n",
    "            val1 = np.transpose(np.matmul(np.linalg.inv(modParam1['cov']), modParam1['mean'][k]))\n",
    "            val2 = (-1/2)*twoxmatmul(np.transpose(modParam1['mean'][k]), np.linalg.inv(modParam1['cov']), modParam1['mean'][k]) + np.log(modParam1['pi'][k])\n",
    "            returnval = np.matmul(val1,testDataArr[i][j]) + val2\n",
    "            values.append(returnval)\n",
    "        maxval = np.argmax(values)\n",
    "        #print(maxval)\n",
    "        if maxval == i:\n",
    "            classification_correct += 1\n",
    "\n",
    "\n",
    "print(classification_correct/(91*8) * 100)\n",
    "#====================================================#\n",
    "# END YOUR CODE\n",
    "#====================================================# \n"
   ]
  },
  {
   "cell_type": "markdown",
   "metadata": {},
   "source": [
    "#### Question:\n",
    "What is the percent of test data points correctly classified?"
   ]
  },
  {
   "cell_type": "markdown",
   "metadata": {},
   "source": [
    "#### Your answer: \n",
    "96.01648351648352"
   ]
  },
  {
   "cell_type": "markdown",
   "metadata": {},
   "source": [
    "### (b) (6 points) \n",
    "Repeat part (a) for model ii). You `should encounter a Python error` when classifying the test data. What is this error? Why did the Python error occur? What would we need to do to correct this error?\n",
    "\n",
    "To be concrete, the output of this cell should be a `Python error` and that's all fine.  But we want you to understand what the error is so we can fix it later.\n"
   ]
  },
  {
   "cell_type": "code",
   "execution_count": 120,
   "metadata": {},
   "outputs": [
    {
     "ename": "LinAlgError",
     "evalue": "Singular matrix",
     "output_type": "error",
     "traceback": [
      "\u001b[0;31m---------------------------------------------------------------------------\u001b[0m",
      "\u001b[0;31mLinAlgError\u001b[0m                               Traceback (most recent call last)",
      "\u001b[0;32m<ipython-input-120-2b2319bcd291>\u001b[0m in \u001b[0;36m<module>\u001b[0;34m()\u001b[0m\n\u001b[1;32m     30\u001b[0m         \u001b[0mvalues\u001b[0m \u001b[0;34m=\u001b[0m \u001b[0;34m[\u001b[0m\u001b[0;34m]\u001b[0m\u001b[0;34m\u001b[0m\u001b[0m\n\u001b[1;32m     31\u001b[0m         \u001b[0;32mfor\u001b[0m \u001b[0mk\u001b[0m \u001b[0;32min\u001b[0m \u001b[0mrange\u001b[0m\u001b[0;34m(\u001b[0m\u001b[0mNumClass\u001b[0m\u001b[0;34m)\u001b[0m\u001b[0;34m:\u001b[0m\u001b[0;34m\u001b[0m\u001b[0m\n\u001b[0;32m---> 32\u001b[0;31m             \u001b[0mval1\u001b[0m \u001b[0;34m=\u001b[0m \u001b[0mnp\u001b[0m\u001b[0;34m.\u001b[0m\u001b[0mtranspose\u001b[0m\u001b[0;34m(\u001b[0m\u001b[0mnp\u001b[0m\u001b[0;34m.\u001b[0m\u001b[0mmatmul\u001b[0m\u001b[0;34m(\u001b[0m\u001b[0mmodParam2\u001b[0m\u001b[0;34m[\u001b[0m\u001b[0;34m'mean'\u001b[0m\u001b[0;34m]\u001b[0m\u001b[0;34m[\u001b[0m\u001b[0mk\u001b[0m\u001b[0;34m]\u001b[0m\u001b[0;34m,\u001b[0m \u001b[0mnp\u001b[0m\u001b[0;34m.\u001b[0m\u001b[0mlinalg\u001b[0m\u001b[0;34m.\u001b[0m\u001b[0minv\u001b[0m\u001b[0;34m(\u001b[0m\u001b[0mmodParam2\u001b[0m\u001b[0;34m[\u001b[0m\u001b[0;34m'cov'\u001b[0m\u001b[0;34m]\u001b[0m\u001b[0;34m[\u001b[0m\u001b[0mk\u001b[0m\u001b[0;34m]\u001b[0m\u001b[0;34m)\u001b[0m\u001b[0;34m)\u001b[0m\u001b[0;34m)\u001b[0m\u001b[0;34m\u001b[0m\u001b[0m\n\u001b[0m\u001b[1;32m     33\u001b[0m             \u001b[0mval2\u001b[0m \u001b[0;34m=\u001b[0m \u001b[0;34m(\u001b[0m\u001b[0;34m-\u001b[0m\u001b[0;36m1\u001b[0m\u001b[0;34m/\u001b[0m\u001b[0;36m2\u001b[0m\u001b[0;34m)\u001b[0m\u001b[0;34m*\u001b[0m\u001b[0mtwoxmatmul\u001b[0m\u001b[0;34m(\u001b[0m\u001b[0mnp\u001b[0m\u001b[0;34m.\u001b[0m\u001b[0mtranspose\u001b[0m\u001b[0;34m(\u001b[0m\u001b[0mmodParam2\u001b[0m\u001b[0;34m[\u001b[0m\u001b[0;34m'mean'\u001b[0m\u001b[0;34m]\u001b[0m\u001b[0;34m[\u001b[0m\u001b[0mk\u001b[0m\u001b[0;34m]\u001b[0m\u001b[0;34m)\u001b[0m\u001b[0;34m,\u001b[0m \u001b[0mnp\u001b[0m\u001b[0;34m.\u001b[0m\u001b[0mlinalg\u001b[0m\u001b[0;34m.\u001b[0m\u001b[0minv\u001b[0m\u001b[0;34m(\u001b[0m\u001b[0mmodParam2\u001b[0m\u001b[0;34m[\u001b[0m\u001b[0;34m'cov'\u001b[0m\u001b[0;34m]\u001b[0m\u001b[0;34m[\u001b[0m\u001b[0mk\u001b[0m\u001b[0;34m]\u001b[0m\u001b[0;34m)\u001b[0m\u001b[0;34m,\u001b[0m \u001b[0mmodParam2\u001b[0m\u001b[0;34m[\u001b[0m\u001b[0;34m'mean'\u001b[0m\u001b[0;34m]\u001b[0m\u001b[0;34m[\u001b[0m\u001b[0mk\u001b[0m\u001b[0;34m]\u001b[0m\u001b[0;34m)\u001b[0m \u001b[0;34m+\u001b[0m \u001b[0mnp\u001b[0m\u001b[0;34m.\u001b[0m\u001b[0mlog\u001b[0m\u001b[0;34m(\u001b[0m\u001b[0mmodParam2\u001b[0m\u001b[0;34m[\u001b[0m\u001b[0;34m'pi'\u001b[0m\u001b[0;34m]\u001b[0m\u001b[0;34m[\u001b[0m\u001b[0mk\u001b[0m\u001b[0;34m]\u001b[0m\u001b[0;34m)\u001b[0m\u001b[0;34m\u001b[0m\u001b[0m\n\u001b[1;32m     34\u001b[0m             \u001b[0mval3\u001b[0m \u001b[0;34m=\u001b[0m \u001b[0mnp\u001b[0m\u001b[0;34m.\u001b[0m\u001b[0mlinalg\u001b[0m\u001b[0;34m.\u001b[0m\u001b[0minv\u001b[0m\u001b[0;34m(\u001b[0m\u001b[0mmodParam2\u001b[0m\u001b[0;34m[\u001b[0m\u001b[0;34m'cov'\u001b[0m\u001b[0;34m]\u001b[0m\u001b[0;34m[\u001b[0m\u001b[0mk\u001b[0m\u001b[0;34m]\u001b[0m\u001b[0;34m)\u001b[0m\u001b[0;34m\u001b[0m\u001b[0m\n",
      "\u001b[0;32m~/anaconda3/lib/python3.6/site-packages/numpy/linalg/linalg.py\u001b[0m in \u001b[0;36minv\u001b[0;34m(a)\u001b[0m\n\u001b[1;32m    511\u001b[0m     \u001b[0msignature\u001b[0m \u001b[0;34m=\u001b[0m \u001b[0;34m'D->D'\u001b[0m \u001b[0;32mif\u001b[0m \u001b[0misComplexType\u001b[0m\u001b[0;34m(\u001b[0m\u001b[0mt\u001b[0m\u001b[0;34m)\u001b[0m \u001b[0;32melse\u001b[0m \u001b[0;34m'd->d'\u001b[0m\u001b[0;34m\u001b[0m\u001b[0m\n\u001b[1;32m    512\u001b[0m     \u001b[0mextobj\u001b[0m \u001b[0;34m=\u001b[0m \u001b[0mget_linalg_error_extobj\u001b[0m\u001b[0;34m(\u001b[0m\u001b[0m_raise_linalgerror_singular\u001b[0m\u001b[0;34m)\u001b[0m\u001b[0;34m\u001b[0m\u001b[0m\n\u001b[0;32m--> 513\u001b[0;31m     \u001b[0mainv\u001b[0m \u001b[0;34m=\u001b[0m \u001b[0m_umath_linalg\u001b[0m\u001b[0;34m.\u001b[0m\u001b[0minv\u001b[0m\u001b[0;34m(\u001b[0m\u001b[0ma\u001b[0m\u001b[0;34m,\u001b[0m \u001b[0msignature\u001b[0m\u001b[0;34m=\u001b[0m\u001b[0msignature\u001b[0m\u001b[0;34m,\u001b[0m \u001b[0mextobj\u001b[0m\u001b[0;34m=\u001b[0m\u001b[0mextobj\u001b[0m\u001b[0;34m)\u001b[0m\u001b[0;34m\u001b[0m\u001b[0m\n\u001b[0m\u001b[1;32m    514\u001b[0m     \u001b[0;32mreturn\u001b[0m \u001b[0mwrap\u001b[0m\u001b[0;34m(\u001b[0m\u001b[0mainv\u001b[0m\u001b[0;34m.\u001b[0m\u001b[0mastype\u001b[0m\u001b[0;34m(\u001b[0m\u001b[0mresult_t\u001b[0m\u001b[0;34m,\u001b[0m \u001b[0mcopy\u001b[0m\u001b[0;34m=\u001b[0m\u001b[0;32mFalse\u001b[0m\u001b[0;34m)\u001b[0m\u001b[0;34m)\u001b[0m\u001b[0;34m\u001b[0m\u001b[0m\n\u001b[1;32m    515\u001b[0m \u001b[0;34m\u001b[0m\u001b[0m\n",
      "\u001b[0;32m~/anaconda3/lib/python3.6/site-packages/numpy/linalg/linalg.py\u001b[0m in \u001b[0;36m_raise_linalgerror_singular\u001b[0;34m(err, flag)\u001b[0m\n\u001b[1;32m     88\u001b[0m \u001b[0;34m\u001b[0m\u001b[0m\n\u001b[1;32m     89\u001b[0m \u001b[0;32mdef\u001b[0m \u001b[0m_raise_linalgerror_singular\u001b[0m\u001b[0;34m(\u001b[0m\u001b[0merr\u001b[0m\u001b[0;34m,\u001b[0m \u001b[0mflag\u001b[0m\u001b[0;34m)\u001b[0m\u001b[0;34m:\u001b[0m\u001b[0;34m\u001b[0m\u001b[0m\n\u001b[0;32m---> 90\u001b[0;31m     \u001b[0;32mraise\u001b[0m \u001b[0mLinAlgError\u001b[0m\u001b[0;34m(\u001b[0m\u001b[0;34m\"Singular matrix\"\u001b[0m\u001b[0;34m)\u001b[0m\u001b[0;34m\u001b[0m\u001b[0m\n\u001b[0m\u001b[1;32m     91\u001b[0m \u001b[0;34m\u001b[0m\u001b[0m\n\u001b[1;32m     92\u001b[0m \u001b[0;32mdef\u001b[0m \u001b[0m_raise_linalgerror_nonposdef\u001b[0m\u001b[0;34m(\u001b[0m\u001b[0merr\u001b[0m\u001b[0;34m,\u001b[0m \u001b[0mflag\u001b[0m\u001b[0;34m)\u001b[0m\u001b[0;34m:\u001b[0m\u001b[0;34m\u001b[0m\u001b[0m\n",
      "\u001b[0;31mLinAlgError\u001b[0m: Singular matrix"
     ]
    }
   ],
   "source": [
    "##4b\n",
    "\n",
    "#====================================================#\n",
    "# YOUR CODE HERE:\n",
    "# Fit the ML parameters of model ii) to training data\n",
    "#====================================================#\n",
    "modParam2 = {}\n",
    "Total_number = trainDataArr[0].shape[0] + trainDataArr[1].shape[0] + trainDataArr[2].shape[0] + trainDataArr[3].shape[0] + trainDataArr[4].shape[0] + trainDataArr[5].shape[0] + trainDataArr[6].shape[0] + trainDataArr[7].shape[0]\n",
    "modParam2['pi'] = np.array((1/8, 1/8, 1/8, 1/8, 1/8, 1/8, 1/8, 1/8))\n",
    "modParam2['mean'] = np.array((np.mean(trainDataArr[0], axis = 0), np.mean(trainDataArr[1], axis=0), np.mean(trainDataArr[2], axis=0), np.mean(trainDataArr[3], axis=0), np.mean(trainDataArr[4], axis=0), np.mean(trainDataArr[5], axis=0), np.mean(trainDataArr[6], axis=0), np.mean(trainDataArr[7], axis=0)))\n",
    "cov1 = np.array(np.cov(trainDataArr[0].T))\n",
    "cov2 = np.array(np.cov(trainDataArr[1].T))\n",
    "cov3 = np.array(np.cov(trainDataArr[2].T))\n",
    "cov4 = np.array(np.cov(trainDataArr[3].T))\n",
    "cov5 = np.array(np.cov(trainDataArr[4].T))\n",
    "cov6 = np.array(np.cov(trainDataArr[5].T))\n",
    "cov7 = np.array(np.cov(trainDataArr[6].T))\n",
    "cov8 = np.array(np.cov(trainDataArr[7].T))\n",
    "covtotal = np.array((cov1, cov2, cov3, cov4, cov5, cov6, cov7, cov8))\n",
    "modParam2['cov'] = covtotal\n",
    "\n",
    "\n",
    "classification_correct = 0\n",
    "def twoxmatmul(a,b,c):\n",
    "    half = np.matmul(a,b)\n",
    "    returnval = np.matmul(half,c)\n",
    "    return returnval\n",
    "for i in range(NumClass):\n",
    "    for j in range(NumTestData):\n",
    "        values = []\n",
    "        for k in range(NumClass):\n",
    "            val1 = np.transpose(np.matmul(modParam2['mean'][k], np.linalg.inv(modParam2['cov'][k])))\n",
    "            val2 = (-1/2)*twoxmatmul(np.transpose(modParam2['mean'][k]), np.linalg.inv(modParam2['cov'][k]), modParam2['mean'][k]) + np.log(modParam2['pi'][k])\n",
    "            val3 = np.linalg.inv(modParam2['cov'][k])\n",
    "            returnval = (-1/2)*(np.matmul(val3,testDataArr[i][j])) + (np.matmul(val1,testDataArr[i][j]))+val2\n",
    "            values.append(returnval)\n",
    "        maxval = np.argmax(values)\n",
    "        #print(maxval)\n",
    "        if maxval == i:\n",
    "            classification_correct += 1\n",
    "print(classification_correct/(91*8) * 100)\n",
    "#====================================================#\n",
    "# END YOUR CODE\n",
    "#====================================================# \n"
   ]
  },
  {
   "cell_type": "markdown",
   "metadata": {},
   "source": [
    "#### Question:\n",
    "Why did the python error occur? What would we need to do to correct this error?"
   ]
  },
  {
   "cell_type": "markdown",
   "metadata": {},
   "source": [
    "#### Your answer:  \n",
    "We get this error because the sigma matrix is a singluar matrix meaning that it cannot be inverted. Hence, when we try to find the np.linalg.inv(modParam2['cov'][k]), it is not possible to do causing the error to be thrown. "
   ]
  },
  {
   "cell_type": "markdown",
   "metadata": {},
   "source": [
    "### (c) (8 points) \n",
    "Correct the problem from part (b) by detecting and then removing offending neurons that cause the error. Now, what is the percent of test data points correctly classified? Is it higher or lower than your answer to part (a)? Why might this be?"
   ]
  },
  {
   "cell_type": "code",
   "execution_count": 145,
   "metadata": {},
   "outputs": [
    {
     "name": "stdout",
     "output_type": "stream",
     "text": [
      "44.09340659340659\n"
     ]
    }
   ],
   "source": [
    "##4c\n",
    "neuronsToRemove = []\n",
    "#====================================================#\n",
    "# YOUR CODE HERE:\n",
    "#   Detect and then remove the offending neurons, so that \n",
    "#   you no longer run into the bug in part (b).\n",
    "#====================================================#\n",
    "remove = []\n",
    "for i in range(NumClass):\n",
    "    for j in range(97):\n",
    "        if (not np.any(trainDataArr[i,:,j])):\n",
    "            remove.append(j)\n",
    "        \n",
    "neuronsToRemove = list(set(remove))\n",
    "#print(neuronsToRemove)\n",
    "#====================================================#\n",
    "# END YOUR CODE\n",
    "#====================================================# \n",
    "##\n",
    "#====================================================#\n",
    "# YOUR CODE HERE:\n",
    "# Fit the ML parameters,classify the test data and print the accuracy\n",
    "#====================================================#\n",
    "neuronsToKeep = list(range(0,97))\n",
    "for i in neuronsToRemove:\n",
    "    neuronsToKeep.remove(i)\n",
    "newTrainData = trainDataArr[:,:,neuronsToKeep]\n",
    "newTrainData = np.array(newTrainData)\n",
    "newTestData = testDataArr[:,:,neuronsToKeep]\n",
    "newTestData = np.array(newTestData)\n",
    "\n",
    "\n",
    "modParam2 = {}\n",
    "Total_number = newTrainData[0].shape[0] + newTrainData[1].shape[0] + newTrainData[2].shape[0] + newTrainData[3].shape[0] + newTrainData[4].shape[0] + newTrainData[5].shape[0] + newTrainData[6].shape[0] + newTrainData[7].shape[0]\n",
    "modParam2['pi'] = np.array((1/8, 1/8, 1/8, 1/8, 1/8, 1/8, 1/8, 1/8))\n",
    "modParam2['mean'] = np.array((np.mean(newTrainData[0], axis = 0), np.mean(newTrainData[1], axis=0), np.mean(newTrainData[2], axis=0), np.mean(newTrainData[3], axis=0), np.mean(newTrainData[4], axis=0), np.mean(newTrainData[5], axis=0), np.mean(newTrainData[6], axis=0), np.mean(newTrainData[7], axis=0)))\n",
    "cov1 = np.array(np.cov(newTrainData[0].T))\n",
    "cov2 = np.array(np.cov(newTrainData[1].T))\n",
    "cov3 = np.array(np.cov(newTrainData[2].T))\n",
    "cov4 = np.array(np.cov(newTrainData[3].T))\n",
    "cov5 = np.array(np.cov(newTrainData[4].T))\n",
    "cov6 = np.array(np.cov(newTrainData[5].T))\n",
    "cov7 = np.array(np.cov(newTrainData[6].T))\n",
    "cov8 = np.array(np.cov(newTrainData[7].T))\n",
    "covtotal = np.array((cov1, cov2, cov3, cov4, cov5, cov6, cov7, cov8))\n",
    "modParam2['cov'] = covtotal\n",
    "\n",
    "\n",
    "classification_correct = 0\n",
    "def twoxmatmul(a,b,c):\n",
    "    half = np.matmul(a,b)\n",
    "    returnval = np.matmul(half,c)\n",
    "    return returnval\n",
    "for i in range(NumClass):\n",
    "    for j in range(NumTestData):\n",
    "        values = []\n",
    "        for k in range(NumClass):\n",
    "            val3 = np.linalg.inv(modParam2['cov'][k])\n",
    "            val1 = np.transpose(np.matmul(modParam2['mean'][k], np.linalg.inv(modParam2['cov'][k]))) - (1/2*np.matmul(val3,newTestData[i,j]))\n",
    "            val2 = (-1/2)*twoxmatmul(np.transpose(modParam2['mean'][k]), np.linalg.inv(modParam2['cov'][k]), modParam2['mean'][k]) + np.log(modParam2['pi'][k]) - (1/2*np.log(np.linalg.det(modParam2['cov'][k])))\n",
    "            returnval = (np.matmul(val1,newTestData[i,j]))+val2\n",
    "            values.append(returnval)\n",
    "        maxval = np.argmax(values)\n",
    "        if maxval == i:\n",
    "            classification_correct += 1\n",
    "print(classification_correct/(8*91) * 100)\n",
    "#====================================================#\n",
    "# END YOUR CODE\n",
    "#====================================================# "
   ]
  },
  {
   "cell_type": "markdown",
   "metadata": {},
   "source": [
    "#### Question:\n",
    "What is the percent of test data points correctly classified? Is it higher or lower than your answer to part (a)? Why might this be?"
   ]
  },
  {
   "cell_type": "markdown",
   "metadata": {},
   "source": [
    "#### Your answer:  \n",
    "The percentage of test data points correctly classified is 44.09%. This is lower than my answer to part a. This is because we have individial covariances for each class and we have removed some of the neurons from our data"
   ]
  },
  {
   "cell_type": "markdown",
   "metadata": {},
   "source": [
    "### (d) (8 points) \n",
    "Now we classify using a naive Bayes model. Repeat part (a) for model iii). Keep the convention in part (c), where offending neurons were removed from the anal- ysis."
   ]
  },
  {
   "cell_type": "code",
   "execution_count": 163,
   "metadata": {},
   "outputs": [
    {
     "name": "stdout",
     "output_type": "stream",
     "text": [
      "92.03296703296702\n"
     ]
    }
   ],
   "source": [
    "##4d\n",
    "#====================================================#\n",
    "# YOUR CODE HERE:\n",
    "# Fit the ML parameters,classify the test data and print the accuracy\n",
    "#====================================================#\n",
    "modParam3 = {}\n",
    "modParam3['pi'] = np.array((1/8, 1/8, 1/8, 1/8, 1/8, 1/8, 1/8, 1/8))\n",
    "modParam3['mean'] = np.array((np.mean(newTrainData[0], axis = 0), np.mean(newTrainData[1], axis=0), np.mean(newTrainData[2], axis=0), np.mean(newTrainData[3], axis=0), np.mean(newTrainData[4], axis=0), np.mean(newTrainData[5], axis=0), np.mean(newTrainData[6], axis=0), np.mean(newTrainData[7], axis=0)))\n",
    "\n",
    "classification_correct = 0\n",
    "def twoxmatmul(a,b,c):\n",
    "    half = np.matmul(a,b)\n",
    "    returnval = np.matmul(half,c)\n",
    "    return returnval\n",
    "\n",
    "for i in range(NumClass):\n",
    "    for j in range(NumTestData):\n",
    "        values = []\n",
    "        for k in range(NumClass):\n",
    "            vals = []\n",
    "            for a in range(87):\n",
    "                vals.append(newTestData[i,j,a]*np.log(modParam3['mean'][k][a]) - modParam3['mean'][k][a])\n",
    "            values.append(np.log(modParam3['pi'][k]) + np.sum(vals))\n",
    "        maxval = np.argmax(values)\n",
    "        if maxval == i:\n",
    "            classification_correct += 1\n",
    "print(classification_correct/(8*91) * 100)\n",
    "#====================================================#\n",
    "# END YOUR CODE\n",
    "#====================================================# "
   ]
  },
  {
   "cell_type": "markdown",
   "metadata": {},
   "source": [
    "#### Question:\n",
    "what is the percent of test data points correctly classified? "
   ]
  },
  {
   "cell_type": "markdown",
   "metadata": {},
   "source": [
    "#### Your answer: \n",
    "The accuracy percentage is: 92.03296703296702"
   ]
  },
  {
   "cell_type": "code",
   "execution_count": null,
   "metadata": {
    "collapsed": true
   },
   "outputs": [],
   "source": []
  }
 ],
 "metadata": {
  "kernelspec": {
   "display_name": "Python 3",
   "language": "python",
   "name": "python3"
  },
  "language_info": {
   "codemirror_mode": {
    "name": "ipython",
    "version": 3
   },
   "file_extension": ".py",
   "mimetype": "text/x-python",
   "name": "python",
   "nbconvert_exporter": "python",
   "pygments_lexer": "ipython3",
   "version": "3.6.3"
  }
 },
 "nbformat": 4,
 "nbformat_minor": 2
}
